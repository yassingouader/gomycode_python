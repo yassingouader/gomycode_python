{
 "cells": [
  {
   "cell_type": "code",
   "execution_count": 46,
   "id": "d4f18226",
   "metadata": {},
   "outputs": [
    {
     "name": "stdout",
     "output_type": "stream",
     "text": [
      "196\n"
     ]
    }
   ],
   "source": [
    "#1\n",
    "def maximum(a, b, c):\n",
    "    if (a >= b) and (a >= c):\n",
    "        largest = a\n",
    "    elif (b >= a) and (b >= c):\n",
    "        largest = b\n",
    "    else:\n",
    "        largest = c\n",
    "    return largest\n",
    "a = 185\n",
    "b = 196\n",
    "c = 172\n",
    "print(maximum(a, b, c))"
   ]
  },
  {
   "cell_type": "code",
   "execution_count": 32,
   "id": "11865467",
   "metadata": {},
   "outputs": [
    {
     "name": "stdout",
     "output_type": "stream",
     "text": [
      "55 39\n"
     ]
    }
   ],
   "source": [
    " #2\n",
    "def calculation(a,b):\n",
    "    return a+b, a-b\n",
    "plus,min=calculation(47,8)\n",
    "print(plus,min)"
   ]
  },
  {
   "cell_type": "code",
   "execution_count": 30,
   "id": "ce6b0036",
   "metadata": {},
   "outputs": [
    {
     "name": "stdout",
     "output_type": "stream",
     "text": [
      "210\n"
     ]
    }
   ],
   "source": [
    "#3\n",
    "def multiplyList(myList): \n",
    "    result = 1\n",
    "    for x in myList:\n",
    "        result = result * x\n",
    "    return result \n",
    "list2 = [7, 2, 3]\n",
    "print(multiplyList(list2))"
   ]
  },
  {
   "cell_type": "code",
   "execution_count": 78,
   "id": "322349b0",
   "metadata": {},
   "outputs": [
    {
     "name": "stdout",
     "output_type": "stream",
     "text": [
      "Ahmed\n"
     ]
    }
   ],
   "source": [
    "#4\n",
    "b={\"name\":\"ahmed\"}\n",
    "\n",
    "def name(d):\n",
    "    return d[\"name\"][0].upper()+d[\"name\"][1:]\n",
    "print(name(b))"
   ]
  },
  {
   "cell_type": "code",
   "execution_count": 79,
   "id": "b166250f",
   "metadata": {},
   "outputs": [
    {
     "name": "stdout",
     "output_type": "stream",
     "text": [
      "gomycode\n"
     ]
    }
   ],
   "source": [
    "#5\n",
    "def list(words):\n",
    "    finalList = []\n",
    "    for word in words:\n",
    "        finalList.append((len(word), word))\n",
    "    finalList.sort()\n",
    "    print( finalList[-1][1])\n",
    "a = [\"school\", \"birthday\", \"appel\", \"gomycode\"]\n",
    "list(a)"
   ]
  },
  {
   "cell_type": "code",
   "execution_count": 91,
   "id": "463d9fd3",
   "metadata": {},
   "outputs": [
    {
     "name": "stdout",
     "output_type": "stream",
     "text": [
      "['black', 'green', 'red', 'white', 'yellow']\n"
     ]
    }
   ],
   "source": [
    "#6\n",
    "v = \"green-red-yellow-black-white\"\n",
    "t = v.split('-')\n",
    "t.sort()\n",
    "print(t)"
   ]
  },
  {
   "cell_type": "code",
   "execution_count": null,
   "id": "09998eb3",
   "metadata": {},
   "outputs": [],
   "source": []
  }
 ],
 "metadata": {
  "kernelspec": {
   "display_name": "Python 3 (ipykernel)",
   "language": "python",
   "name": "python3"
  },
  "language_info": {
   "codemirror_mode": {
    "name": "ipython",
    "version": 3
   },
   "file_extension": ".py",
   "mimetype": "text/x-python",
   "name": "python",
   "nbconvert_exporter": "python",
   "pygments_lexer": "ipython3",
   "version": "3.9.13"
  }
 },
 "nbformat": 4,
 "nbformat_minor": 5
}

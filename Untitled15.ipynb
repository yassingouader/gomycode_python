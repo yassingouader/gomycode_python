{
 "cells": [
  {
   "cell_type": "code",
   "execution_count": 2,
   "id": "9dc0da06",
   "metadata": {},
   "outputs": [
    {
     "name": "stdout",
     "output_type": "stream",
     "text": [
      "ur timer 5\n",
      "time is up!!\n"
     ]
    }
   ],
   "source": [
    "import time  \n",
    "def countdown(c):      \n",
    "    while c:  \n",
    "        m, s = divmod(c, 60)  \n",
    "        timer = '{:02d}:{:02d}'.format(m, s)  \n",
    "        print(timer, end=\"\\r\")  \n",
    "        time.sleep(1)  \n",
    "        c -= 1       \n",
    "    print('time is up!!')  \n",
    "c = input(\"ur timer is \")  \n",
    "countdown(int(c))  "
   ]
  }
 ],
 "metadata": {
  "kernelspec": {
   "display_name": "Python 3 (ipykernel)",
   "language": "python",
   "name": "python3"
  },
  "language_info": {
   "codemirror_mode": {
    "name": "ipython",
    "version": 3
   },
   "file_extension": ".py",
   "mimetype": "text/x-python",
   "name": "python",
   "nbconvert_exporter": "python",
   "pygments_lexer": "ipython3",
   "version": "3.9.13"
  }
 },
 "nbformat": 4,
 "nbformat_minor": 5
}

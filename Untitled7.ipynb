{
 "cells": [
  {
   "cell_type": "code",
   "execution_count": 53,
   "id": "a2481a40",
   "metadata": {},
   "outputs": [
    {
     "name": "stdout",
     "output_type": "stream",
     "text": [
      "adding Surshes\n",
      "        name  score  attempts qualify  success\n",
      "a  Anastasia   12.5       1.0     yes      1.0\n",
      "b       Dima    9.0       3.0      no      0.0\n",
      "c  Katherine   16.5       2.0     yes      1.0\n",
      "d      James    NaN       3.0      no      NaN\n",
      "e      Emily    9.0       2.0      no      0.0\n",
      "f    Michael   20.0       3.0     yes      1.0\n",
      "g    Matthew   14.5       1.0     yes      1.0\n",
      "h      Laura    NaN       1.0      no      NaN\n",
      "i      Kevin    8.0       2.0      no      0.0\n",
      "j      Jonas   19.0       1.0     yes      1.0\n",
      "k     Suresh    1.0      15.5     yes      0.0\n"
     ]
    }
   ],
   "source": [
    "import pandas as pd\n",
    "import numpy as np\n",
    "exam_data  = {'name': ['Anastasia', 'Dima', 'Katherine', 'James', 'Emily', 'Michael', 'Matthew', 'Laura', 'Kevin', 'Jonas'],\n",
    "        'score': [12.5, 9, 16.5, np.nan, 9, 20, 14.5, np.nan, 8, 19],\n",
    "        'attempts': [1, 3, 2, 3, 2, 3, 1, 1, 2, 1],\n",
    "        'qualify': ['yes', 'no', 'yes', 'no', 'no', 'yes', 'yes', 'no', 'no', 'yes']}\n",
    "labels = ['a', 'b', 'c', 'd', 'e', 'f', 'g', 'h', 'i', 'j']\n",
    "df = pd.DataFrame(exam_data , index=labels)\n",
    "\n",
    "print(\"adding Surshes\")\n",
    "df.loc['k'] = ['Suresh',1, 15.5,'yes' ]\n",
    "df.loc[df['score']>10,\"success\"]=1\n",
    "df.loc[df['score']<10,\"success\"]=0\n",
    "print(df)"
   ]
  }
 ],
 "metadata": {
  "kernelspec": {
   "display_name": "Python 3 (ipykernel)",
   "language": "python",
   "name": "python3"
  },
  "language_info": {
   "codemirror_mode": {
    "name": "ipython",
    "version": 3
   },
   "file_extension": ".py",
   "mimetype": "text/x-python",
   "name": "python",
   "nbconvert_exporter": "python",
   "pygments_lexer": "ipython3",
   "version": "3.9.13"
  }
 },
 "nbformat": 4,
 "nbformat_minor": 5
}

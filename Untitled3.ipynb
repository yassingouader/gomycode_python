{
 "cells": [
  {
   "cell_type": "code",
   "execution_count": 81,
   "id": "10d7dd1c",
   "metadata": {},
   "outputs": [
    {
     "name": "stdout",
     "output_type": "stream",
     "text": [
      "36\n"
     ]
    }
   ],
   "source": [
    "#1\n",
    "l=[2,3,6]\n",
    "s=1\n",
    "for i in range(0,len(l)):\n",
    "    s=s*l[i]\n",
    "print(s)"
   ]
  },
  {
   "cell_type": "code",
   "execution_count": 16,
   "id": "44533c1a",
   "metadata": {},
   "outputs": [
    {
     "name": "stdout",
     "output_type": "stream",
     "text": [
      "[(53, 7), (81, 19), (46, 25), (40, 30), (29, 100)]\n"
     ]
    }
   ],
   "source": [
    "#2\n",
    "def last(n): return n[-1]\n",
    "\n",
    "def sort_list_last(tuples):\n",
    "    return sorted(tuples, key=last)\n",
    "\n",
    "print(sort_list_last([(53, 7), (81, 19), (46, 25), (40, 30), (29, 100)]))"
   ]
  },
  {
   "cell_type": "code",
   "execution_count": 17,
   "id": "372fa7af",
   "metadata": {},
   "outputs": [
    {
     "name": "stdout",
     "output_type": "stream",
     "text": [
      "{'a': 1000, 'b': 10000, 'c': 3000, 'd': 4000}\n"
     ]
    }
   ],
   "source": [
    "#3\n",
    "list1 = {'a': 900, 'b': 2000, 'c':3000}\n",
    "list2 = {'a': 100, 'b': 8000, 'd':4000}\n",
    "result = dict(list1) \n",
    "result.update(list2) \n",
    "for i, j in list1.items():\n",
    "    for x, y in list2.items():\n",
    "        if i == x:\n",
    "            result[i]=(j+y)\n",
    "print(result)"
   ]
  },
  {
   "cell_type": "code",
   "execution_count": 18,
   "id": "b3eb41ee",
   "metadata": {},
   "outputs": [
    {
     "name": "stdout",
     "output_type": "stream",
     "text": [
      "5\n",
      "{1: 1, 2: 4, 3: 9, 4: 16, 5: 25}\n"
     ]
    }
   ],
   "source": [
    "#4\n",
    "n=int(input(\"\"))\n",
    "d={}\n",
    "for i in range(1,n+1):\n",
    "    d[i]=i**2\n",
    "print(d)"
   ]
  },
  {
   "cell_type": "code",
   "execution_count": 19,
   "id": "6e9b1de0",
   "metadata": {},
   "outputs": [
    {
     "name": "stdout",
     "output_type": "stream",
     "text": [
      "[('ps5', '700.0'), ('hat', '137.5'), ('shirt', '26.99')]\n"
     ]
    }
   ],
   "source": [
    "#5\n",
    "price = [('shirt', '26.99'), ('hat', '137.5'), ('ps5', '700.0')]\n",
    "print( sorted(price, key=lambda x: float(x[1]), reverse=True))\n"
   ]
  },
  {
   "cell_type": "code",
   "execution_count": 20,
   "id": "37975895",
   "metadata": {},
   "outputs": [
    {
     "name": "stdout",
     "output_type": "stream",
     "text": [
      "6\n",
      "4\n",
      "2\n",
      "3\n",
      "6\n"
     ]
    }
   ],
   "source": [
    "\n",
    "#6\n",
    "a=int(input())\n",
    "R=int(input())\n",
    "sett={2,3,4,6}\n",
    "sett.add(a)\n",
    "sett.remove(R)\n",
    "for x in sett:\n",
    "    print(x)\n",
    "\n"
   ]
  }
 ],
 "metadata": {
  "kernelspec": {
   "display_name": "Python 3 (ipykernel)",
   "language": "python",
   "name": "python3"
  },
  "language_info": {
   "codemirror_mode": {
    "name": "ipython",
    "version": 3
   },
   "file_extension": ".py",
   "mimetype": "text/x-python",
   "name": "python",
   "nbconvert_exporter": "python",
   "pygments_lexer": "ipython3",
   "version": "3.9.13"
  }
 },
 "nbformat": 4,
 "nbformat_minor": 5
}

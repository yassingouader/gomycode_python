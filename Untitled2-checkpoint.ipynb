{
 "cells": [
  {
   "cell_type": "code",
   "execution_count": 1,
   "id": "4d88567c",
   "metadata": {},
   "outputs": [
    {
     "name": "stdout",
     "output_type": "stream",
     "text": [
      "Enter your first Name: kk\n",
      "Enter your last Name: mm\n",
      "mm kk\n"
     ]
    }
   ],
   "source": [
    "firstname = input(\"Enter your first Name: \")\n",
    "LastName = input(\"Enter your last Name: \")\n",
    "print(LastName + \" \"+ firstname)\n"
   ]
  },
  {
   "cell_type": "code",
   "execution_count": 2,
   "id": "a0a15739",
   "metadata": {
    "scrolled": false
   },
   "outputs": [
    {
     "name": "stdout",
     "output_type": "stream",
     "text": [
      " 5\n",
      "615\n"
     ]
    }
   ],
   "source": [
    "N = int(input (\" \"))\n",
    "NN = N*11\n",
    "NNN = N*111\n",
    "print (N + NN + NNN)"
   ]
  },
  {
   "cell_type": "code",
   "execution_count": 12,
   "id": "02a88587",
   "metadata": {},
   "outputs": [
    {
     "name": "stdout",
     "output_type": "stream",
     "text": [
      " 12\n",
      "your number is even\n"
     ]
    }
   ],
   "source": [
    "a = int(input (\" \"))\n",
    "if a %2 == 0: \n",
    "    print('your number is even')\n",
    "else:\n",
    "    print('your number is odd')"
   ]
  },
  {
   "cell_type": "code",
   "execution_count": 22,
   "id": "0728ea22",
   "metadata": {},
   "outputs": [
    {
     "name": "stdout",
     "output_type": "stream",
     "text": [
      "2002 2009 2016 2023 2030 2037 2044 2051 2058 2065 2072 2079 2086 2093 2100 2107 2114 2121 2128 2135 2142 2149 2156 2163 2170 2177 2184 2191 2198 2205 2212 2219 2226 2233 2240 2247 2254 2261 2268 2275 2282 2289 2296 2303 2310 2317 2324 2331 2338 2345 2352 2359 2366 2373 2380 2387 2394 2401 2408 2415 2422 2429 2436 2443 2450 2457 2464 2471 2478 2485 2492 2499 2506 2513 2520 2527 2534 2541 2548 2555 2562 2569 2576 2583 2590 2597 2604 2611 2618 2625 2632 2639 2646 2653 2660 2667 2674 2681 2688 2695 2702 2709 2716 2723 2730 2737 2744 2751 2758 2765 2772 2779 2786 2793 2800 2807 2814 2821 2828 2835 2842 2849 2856 2863 2870 2877 2884 2891 2898 2905 2912 2919 2926 2933 2940 2947 2954 2961 2968 2975 2982 2989 2996 3003 3010 3017 3024 3031 3038 3045 3052 3059 3066 3073 3080 3087 3094 3101 3108 3115 3122 3129 3136 3143 3150 3157 3164 3171 3178 3185 3192 3199 "
     ]
    }
   ],
   "source": [
    "for i in range(2000,3200):\n",
    "    if(i %7 == 0):\n",
    "        print(i,end=\" \")\n",
    "    "
   ]
  },
  {
   "cell_type": "code",
   "execution_count": 35,
   "id": "46cfb0f7",
   "metadata": {},
   "outputs": [
    {
     "name": "stdout",
     "output_type": "stream",
     "text": [
      " 6\n",
      "720\n"
     ]
    }
   ],
   "source": [
    "n = int(input(\" \"))\n",
    "f=1\n",
    "for i in range(1,n+1):\n",
    "    f=f*i\n",
    "print(f)"
   ]
  },
  {
   "cell_type": "code",
   "execution_count": 37,
   "id": "db71a7a5",
   "metadata": {},
   "outputs": [
    {
     "name": "stdout",
     "output_type": "stream",
     "text": [
      "yassin\n",
      "yssn\n"
     ]
    }
   ],
   "source": [
    "fullname = input(\"\")\n",
    "for i in range(0,len(fullname)):\n",
    "    if i %2 !=0:\n",
    "        fullname =fullname[0:i:]+fullname[i+1::]\n",
    "print(fullname)"
   ]
  },
  {
   "cell_type": "code",
   "execution_count": 44,
   "id": "1c8d17c3",
   "metadata": {},
   "outputs": [
    {
     "name": "stdout",
     "output_type": "stream",
     "text": [
      "enter your price100\n",
      "you have 10% discount.\n"
     ]
    }
   ],
   "source": [
    "price = int(input(\"enter your price\"))\n",
    "if price >=500:\n",
    "    print(\"you have 50% discount.\")\n",
    "elif price>200 and price<500:\n",
    "    print(\"you have 30% discount.\")\n",
    "else:\n",
    "    print(\"you have 10% discount.\")\n",
    "    "
   ]
  },
  {
   "cell_type": "code",
   "execution_count": null,
   "id": "8ef16872",
   "metadata": {},
   "outputs": [],
   "source": []
  }
 ],
 "metadata": {
  "kernelspec": {
   "display_name": "Python 3 (ipykernel)",
   "language": "python",
   "name": "python3"
  },
  "language_info": {
   "codemirror_mode": {
    "name": "ipython",
    "version": 3
   },
   "file_extension": ".py",
   "mimetype": "text/x-python",
   "name": "python",
   "nbconvert_exporter": "python",
   "pygments_lexer": "ipython3",
   "version": "3.9.13"
  }
 },
 "nbformat": 4,
 "nbformat_minor": 5
}

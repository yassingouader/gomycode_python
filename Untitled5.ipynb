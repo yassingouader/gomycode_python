{
 "cells": [
  {
   "cell_type": "code",
   "execution_count": null,
   "id": "ddd5ac8f",
   "metadata": {},
   "outputs": [],
   "source": []
  },
  {
   "cell_type": "code",
   "execution_count": null,
   "id": "0b9a97da",
   "metadata": {},
   "outputs": [],
   "source": [
    "class Point3D:\n",
    "\n",
    "    def __init__(self, x, y, z):\n",
    "        self.x = x\n",
    "        self.y = y\n",
    "        self.z = z\n",
    "    def affiche(self):\n",
    "        print('(',self.x,self.y,self.z,')')\n",
    "p1 = Point3D(5,6,1)\n",
    "p1.affiche()"
   ]
  },
  {
   "cell_type": "code",
   "execution_count": null,
   "id": "3fa38640",
   "metadata": {},
   "outputs": [],
   "source": [
    " class car:\n",
    "    def __init__(self,clr,logo,pric):\n",
    "        self.clr=clr\n",
    "        self.logo=logo\n",
    "        self.pric=pric\n",
    "    def details(self):\n",
    "        print('(',self.clr,self.logo,self.pric,')')\n",
    "        \n",
    "car1=car('black','bugati',500000)\n",
    "car2=car('orange','lambo',1000000)\n",
    "car1.details()\n",
    "car2.details()\n"
   ]
  },
  {
   "cell_type": "code",
   "execution_count": 7,
   "id": "a812acf8",
   "metadata": {},
   "outputs": [
    {
     "name": "stdout",
     "output_type": "stream",
     "text": [
      "( 12 )\n",
      "( 16 )\n"
     ]
    }
   ],
   "source": [
    "class Rectangle:\n",
    "    def __init__(self,lenght,width):\n",
    "        self.lenght=lenght\n",
    "        self.width=width\n",
    "\n",
    "    def area(self):\n",
    "        print('(',self.lenght*self.width,')')\n",
    "    def primeter(self):\n",
    "        print('(',(self.lenght+self.width)*2,')')\n",
    "rec=Rectangle(2,6)\n",
    "rec.area()\n",
    "rec.primeter()"
   ]
  },
  {
   "cell_type": "code",
   "execution_count": 11,
   "id": "e90fc18f",
   "metadata": {},
   "outputs": [
    {
     "name": "stdout",
     "output_type": "stream",
     "text": [
      "( 300 )\n",
      "( 280 )\n"
     ]
    }
   ],
   "source": [
    "class bank:\n",
    "    def __init__(self,balance):\n",
    "        self.balance=balance\n",
    "    def deposit(self,b):\n",
    "        self.balance+=b\n",
    "        print('(',self.balance,')')\n",
    "    def withdraw(self,b):\n",
    "        print('(',self.balance-b,')')\n",
    "\n",
    "b=bank(200)\n",
    "b.deposit(100)\n",
    "b.withdraw(20)     "
   ]
  },
  {
   "cell_type": "code",
   "execution_count": null,
   "id": "ff7151ce",
   "metadata": {},
   "outputs": [],
   "source": []
  },
  {
   "cell_type": "code",
   "execution_count": null,
   "id": "87fed4ab",
   "metadata": {},
   "outputs": [],
   "source": []
  }
 ],
 "metadata": {
  "kernelspec": {
   "display_name": "Python 3 (ipykernel)",
   "language": "python",
   "name": "python3"
  },
  "language_info": {
   "codemirror_mode": {
    "name": "ipython",
    "version": 3
   },
   "file_extension": ".py",
   "mimetype": "text/x-python",
   "name": "python",
   "nbconvert_exporter": "python",
   "pygments_lexer": "ipython3",
   "version": "3.9.13"
  }
 },
 "nbformat": 4,
 "nbformat_minor": 5
}

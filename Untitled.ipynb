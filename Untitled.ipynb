{
 "cells": [
  {
   "cell_type": "code",
   "execution_count": 5,
   "id": "d09f4749",
   "metadata": {},
   "outputs": [
    {
     "name": "stdout",
     "output_type": "stream",
     "text": [
      "hello my name is\n",
      "yassine\n",
      "am a boy"
     ]
    }
   ],
   "source": [
    "\n",
    "f = open(\"text.txt\",'r',encoding = 'utf-8')\n",
    "for line in f:\n",
    "       print(line, end = '')"
   ]
  },
  {
   "cell_type": "code",
   "execution_count": 7,
   "id": "f3f6c1a6",
   "metadata": {},
   "outputs": [
    {
     "data": {
      "text/plain": [
       "'hello my name is'"
      ]
     },
     "execution_count": 7,
     "metadata": {},
     "output_type": "execute_result"
    }
   ],
   "source": [
    "f = open(\"text.txt\",'r',encoding = 'utf-8')\n",
    "f.read(16) "
   ]
  },
  {
   "cell_type": "code",
   "execution_count": 40,
   "id": "a68c58bf",
   "metadata": {},
   "outputs": [
    {
     "name": "stdout",
     "output_type": "stream",
     "text": [
      "its : 8\n"
     ]
    }
   ],
   "source": [
    "f = open(\"text.txt\",'r')\n",
    "count = 0\n",
    "for line in f:\n",
    "    words = line.split(\" \")\n",
    "    count += len(words)\n",
    "print(\"its :\",count)"
   ]
  }
 ],
 "metadata": {
  "kernelspec": {
   "display_name": "Python 3 (ipykernel)",
   "language": "python",
   "name": "python3"
  },
  "language_info": {
   "codemirror_mode": {
    "name": "ipython",
    "version": 3
   },
   "file_extension": ".py",
   "mimetype": "text/x-python",
   "name": "python",
   "nbconvert_exporter": "python",
   "pygments_lexer": "ipython3",
   "version": "3.9.13"
  }
 },
 "nbformat": 4,
 "nbformat_minor": 5
}
